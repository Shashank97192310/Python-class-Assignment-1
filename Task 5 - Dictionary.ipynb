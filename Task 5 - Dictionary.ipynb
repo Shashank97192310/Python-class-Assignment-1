{
 "cells": [
  {
   "cell_type": "code",
   "execution_count": 1,
   "metadata": {},
   "outputs": [],
   "source": [
    "dict1 = { \n",
    "   \"april_batch\":{ \n",
    "      \"student\":{ \n",
    "         \"name\":\"Mike\",\n",
    "         \"marks\":{ \n",
    "            \"python\":80,\n",
    "            \"maths\":70\n",
    "         }\n",
    "      }\n",
    "   }\n",
    "}\n",
    "\n"
   ]
  },
  {
   "cell_type": "markdown",
   "metadata": {},
   "source": [
    "#### From the above dictionary, do the following tasks\n",
    "\n",
    "access \"Mike\"  \n",
    "access 80  \n",
    "change \"Mike\" to \"Your name\"   \n",
    "add ML = 80 and DL = 80 inside marks"
   ]
  },
  {
   "cell_type": "code",
   "execution_count": 2,
   "metadata": {},
   "outputs": [
    {
     "name": "stdout",
     "output_type": "stream",
     "text": [
      "Mike\n"
     ]
    }
   ],
   "source": [
    "#Accesing the name\n",
    "print(dict1['april_batch']['student']['name'])"
   ]
  },
  {
   "cell_type": "code",
   "execution_count": 3,
   "metadata": {},
   "outputs": [
    {
     "name": "stdout",
     "output_type": "stream",
     "text": [
      "You have scored 80 in Python\n"
     ]
    }
   ],
   "source": [
    "#Accessing marks for Python\n",
    "print(\"You have scored\", dict1['april_batch']['student']['marks']['python'], \"in Python\")"
   ]
  },
  {
   "cell_type": "code",
   "execution_count": 4,
   "metadata": {},
   "outputs": [
    {
     "name": "stdout",
     "output_type": "stream",
     "text": [
      "Your name has been updated to SHASHANK\n"
     ]
    }
   ],
   "source": [
    "#change \"Mike\" to \"Your name\"\n",
    "a = dict1['april_batch']['student']['name'] = 'SHASHANK'\n",
    "print(\"Your name has been updated to\", a)"
   ]
  },
  {
   "cell_type": "code",
   "execution_count": 5,
   "metadata": {},
   "outputs": [
    {
     "name": "stdout",
     "output_type": "stream",
     "text": [
      "You marks in ML are 80\n",
      "You marks in DL are 80\n"
     ]
    }
   ],
   "source": [
    "#add ML = 80 and DL = 80 inside marks\n",
    "ML = dict1['april_batch']['student']['marks']['ML'] = 80\n",
    "DL = dict1['april_batch']['student']['marks']['DL'] = 80\n",
    "print(\"You marks in ML are\", ML)\n",
    "print(\"You marks in DL are\", DL)"
   ]
  },
  {
   "cell_type": "code",
   "execution_count": null,
   "metadata": {},
   "outputs": [],
   "source": []
  }
 ],
 "metadata": {
  "kernelspec": {
   "display_name": "Python 3",
   "language": "python",
   "name": "python3"
  },
  "language_info": {
   "codemirror_mode": {
    "name": "ipython",
    "version": 3
   },
   "file_extension": ".py",
   "mimetype": "text/x-python",
   "name": "python",
   "nbconvert_exporter": "python",
   "pygments_lexer": "ipython3",
   "version": "3.8.3"
  }
 },
 "nbformat": 4,
 "nbformat_minor": 4
}
