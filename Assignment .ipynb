{
 "cells": [
  {
   "cell_type": "markdown",
   "metadata": {},
   "source": [
    "#### function to remove duplicate values in a string.   \n"
   ]
  },
  {
   "cell_type": "code",
   "execution_count": 1,
   "metadata": {},
   "outputs": [
    {
     "name": "stdout",
     "output_type": "stream",
     "text": [
      "helo\n"
     ]
    }
   ],
   "source": [
    "def remove_duplicates(str):\n",
    "    i=0\n",
    "    str1 = \"\"\n",
    "    for x in str:\n",
    "        if str.index(x) == i:\n",
    "            str1+=x\n",
    "        i+=1\n",
    "    print(str1) \n",
    "remove_duplicates(\"hello\")       "
   ]
  },
  {
   "cell_type": "markdown",
   "metadata": {},
   "source": [
    "#### Write a class and method under it to perform square root, cubeoot and nth root of a number."
   ]
  },
  {
   "cell_type": "code",
   "execution_count": 2,
   "metadata": {},
   "outputs": [
    {
     "name": "stdout",
     "output_type": "stream",
     "text": [
      "1.7782794100389228\n"
     ]
    }
   ],
   "source": [
    "class Infix:\n",
    "    def __init__(self, function):\n",
    "        self.function = function\n",
    "    def __ror__(self, other):\n",
    "        return Infix(lambda x, self=self, other=other: self.function(other, x))\n",
    "    def __or__(self, other):\n",
    "        return self.function(other)\n",
    "    def __rlshift__(self, other):\n",
    "        return Infix(lambda x, self=self, other=other: self.function(other, x))\n",
    "    def __rshift__(self, other):\n",
    "        return self.function(other)\n",
    "    def __call__(self, value1, value2):\n",
    "        return self.function(value1, value2)\n",
    "\n",
    "\n",
    "root_of = Infix(lambda x,y: y**(1.0/x))\n",
    "print (4 |root_of| 10)"
   ]
  },
  {
   "cell_type": "markdown",
   "metadata": {},
   "source": [
    "#### Write a function which takes a list as input and returns in a reverse order"
   ]
  },
  {
   "cell_type": "code",
   "execution_count": 4,
   "metadata": {},
   "outputs": [
    {
     "name": "stdout",
     "output_type": "stream",
     "text": [
      "[15, 14, 13, 12, 11, 10]\n"
     ]
    }
   ],
   "source": [
    "def Reverse(list1): \n",
    "    return [ele for ele in reversed(list1)] \n",
    "      \n",
    "list1 = [10, 11, 12, 13, 14, 15] \n",
    "print(Reverse(list1)) "
   ]
  },
  {
   "cell_type": "markdown",
   "metadata": {},
   "source": [
    "#### Write a class which takes 3 input an returns the smallest and largest number"
   ]
  },
  {
   "cell_type": "code",
   "execution_count": 1,
   "metadata": {},
   "outputs": [
    {
     "name": "stdout",
     "output_type": "stream",
     "text": [
      "Enter First number : 5\n",
      "Enter Second number : 63\n",
      "Enter Third number : 889\n",
      "The largest of the 3 numbers is :  889\n",
      "The smallest of the 3 numbers is :  5\n"
     ]
    }
   ],
   "source": [
    "num1 = int(input('Enter First number : '))\n",
    "num2 = int(input('Enter Second number : '))\n",
    "num3 = int(input('Enter Third number : '))\n",
    "def largest(num1, num2, num3):\n",
    "    if (num1 > num2) and (num1 > num3):\n",
    "        largest_num = num1\n",
    "    elif (num2 > num1) and (num2 > num3):\n",
    "        largest_num = num2\n",
    "    else:\n",
    "        largest_num = num3\n",
    "    print(\"The largest of the 3 numbers is : \", largest_num)\n",
    "def smallest(num1, num2, num3):\n",
    "    if (num1 < num2) and (num1 < num3):\n",
    "        smallest_num = num1\n",
    "    elif (num2 < num1) and (num2 < num3):\n",
    "        smallest_num = num2\n",
    "    else:\n",
    "        smallest_num = num3\n",
    "    print(\"The smallest of the 3 numbers is : \", smallest_num)\n",
    "largest(num1, num2, num3)\n",
    "smallest(num1, num2, num3)\n"
   ]
  },
  {
   "cell_type": "code",
   "execution_count": null,
   "metadata": {},
   "outputs": [],
   "source": []
  }
 ],
 "metadata": {
  "kernelspec": {
   "display_name": "Python 3",
   "language": "python",
   "name": "python3"
  },
  "language_info": {
   "codemirror_mode": {
    "name": "ipython",
    "version": 3
   },
   "file_extension": ".py",
   "mimetype": "text/x-python",
   "name": "python",
   "nbconvert_exporter": "python",
   "pygments_lexer": "ipython3",
   "version": "3.8.3"
  }
 },
 "nbformat": 4,
 "nbformat_minor": 4
}
