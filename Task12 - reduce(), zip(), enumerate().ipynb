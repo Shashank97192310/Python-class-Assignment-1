{
 "cells": [
  {
   "cell_type": "code",
   "execution_count": 2,
   "metadata": {},
   "outputs": [
    {
     "name": "stdout",
     "output_type": "stream",
     "text": [
      "40\n"
     ]
    }
   ],
   "source": [
    "#reduce\n",
    "from functools import reduce\n",
    "\n",
    "numbers = [2,3,4,5,6]\n",
    "\n",
    "def sum_(first, second):\n",
    "    return first + second\n",
    "\n",
    "result = reduce(sum_, numbers,20)\n",
    "print(result)"
   ]
  },
  {
   "cell_type": "code",
   "execution_count": 3,
   "metadata": {},
   "outputs": [
    {
     "name": "stdout",
     "output_type": "stream",
     "text": [
      "[('dev', 'hunt'), ('man', 'gun'), ('nope', 'mud')]\n"
     ]
    }
   ],
   "source": [
    "#zip\n",
    "a = (\"dev\", \"man\", \"nope\")\n",
    "b = (\"hunt\", \"gun\", \"mud\")\n",
    "\n",
    "x = zip(a, b)\n",
    "\n",
    "#use the list() function to display a readable version of the result:\n",
    "\n",
    "print(list(x))"
   ]
  },
  {
   "cell_type": "code",
   "execution_count": 4,
   "metadata": {},
   "outputs": [
    {
     "name": "stdout",
     "output_type": "stream",
     "text": [
      "(0, 'tree')\n",
      "(1, 'shrub')\n",
      "(2, 'soil')\n",
      "100 tree\n",
      "101 shrub\n",
      "102 soil\n"
     ]
    }
   ],
   "source": [
    "#enumerate\n",
    "l1 = [\"tree\",\"shrub\",\"soil\"]\n",
    " \n",
    "# printing the tuples in object directly\n",
    "for i in enumerate(l1):\n",
    "    print (i)\n",
    "\n",
    "# changing index and printing separately\n",
    "for count,i in enumerate(l1,100):\n",
    "    print (count,i)"
   ]
  },
  {
   "cell_type": "code",
   "execution_count": null,
   "metadata": {},
   "outputs": [],
   "source": []
  }
 ],
 "metadata": {
  "kernelspec": {
   "display_name": "Python 3",
   "language": "python",
   "name": "python3"
  },
  "language_info": {
   "codemirror_mode": {
    "name": "ipython",
    "version": 3
   },
   "file_extension": ".py",
   "mimetype": "text/x-python",
   "name": "python",
   "nbconvert_exporter": "python",
   "pygments_lexer": "ipython3",
   "version": "3.8.3"
  }
 },
 "nbformat": 4,
 "nbformat_minor": 4
}
