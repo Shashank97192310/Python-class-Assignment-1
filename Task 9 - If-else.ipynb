{
 "cells": [
  {
   "cell_type": "markdown",
   "metadata": {},
   "source": [
    "#### Ask 2 numbers from users and store it in num1 and num2  \n",
    "Ask user to press 1 for addition,2 for subtraction,3 for multiplication and 4 for division  \n",
    "based on number given by user do the math operation  "
   ]
  },
  {
   "cell_type": "code",
   "execution_count": 1,
   "metadata": {},
   "outputs": [
    {
     "name": "stdout",
     "output_type": "stream",
     "text": [
      "Please press 1/2/3/4 for your preferred operation\n",
      "1.Add\n",
      "2.Substract\n",
      "3.Multiply\n",
      "4.Divide\n",
      "Enter Choice(1-4): 4\n",
      "Enter num1:2\n",
      "Enter num2:5\n",
      "Quotient =  0.4\n"
     ]
    }
   ],
   "source": [
    "print(\"Please press 1/2/3/4 for your preferred operation\")\n",
    "print(\"1.Add\")\n",
    "print(\"2.Substract\")\n",
    "print(\"3.Multiply\")\n",
    "print(\"4.Divide\")\n",
    "\n",
    "# input choice\n",
    "ch=int(input(\"Enter Choice(1-4): \"))\n",
    "\n",
    "if ch==1:\n",
    "    a=float(input(\"Enter num1:\"))\n",
    "    b=float(input(\"Enter num2:\"))\n",
    "    c=a+b\n",
    "    print(\"Sum = \",c)\n",
    "elif ch==2:\n",
    "    a=float(input(\"Enter num1:\"))\n",
    "    b=float(input(\"Enter num2:\"))\n",
    "    c=a-b\n",
    "    print(\"Difference = \",c)\n",
    "elif  ch==3:\n",
    "    a=float(input(\"Enter num1:\"))\n",
    "    b=float(input(\"Enter num2:\"))\n",
    "    c=a*b\n",
    "    print(\"Product = \",c)\n",
    "elif ch==4:\n",
    "    a=float(input(\"Enter num1:\"))\n",
    "    b=float(input(\"Enter num2:\"))\n",
    "    c=a/b\n",
    "    print(\"Quotient = \",c)\n",
    "else:\n",
    "    print(\"Invalid Choice\")"
   ]
  },
  {
   "cell_type": "code",
   "execution_count": null,
   "metadata": {},
   "outputs": [],
   "source": []
  }
 ],
 "metadata": {
  "kernelspec": {
   "display_name": "Python 3",
   "language": "python",
   "name": "python3"
  },
  "language_info": {
   "codemirror_mode": {
    "name": "ipython",
    "version": 3
   },
   "file_extension": ".py",
   "mimetype": "text/x-python",
   "name": "python",
   "nbconvert_exporter": "python",
   "pygments_lexer": "ipython3",
   "version": "3.8.3"
  }
 },
 "nbformat": 4,
 "nbformat_minor": 4
}
