{
 "cells": [
  {
   "cell_type": "code",
   "execution_count": 3,
   "metadata": {},
   "outputs": [],
   "source": [
    "#Create a dataframe, save it as a CSV file ,set index as random\n",
    "import numpy as np\n",
    "import pandas as pd\n",
    "df=pd.DataFrame(np.random.randn(4, 4), columns = list('ABCD'))\n",
    "df.to_csv('example.csv', index=False)\n"
   ]
  },
  {
   "cell_type": "code",
   "execution_count": 5,
   "metadata": {},
   "outputs": [
    {
     "name": "stdout",
     "output_type": "stream",
     "text": [
      "       Name  Age    Address Qualification\n",
      "0  Shashank   23    Solapur           Eng\n",
      "1    Sharat   22   Gulbarga           Bsc\n",
      "2    Sushma   23  Bengaluru            CA \n",
      "\n",
      "      Name  Age  Address Qualification\n",
      "3   Naina   19     Pune          B.ed\n",
      "4  Chikki   25  Bijapur         B.com\n",
      "5   Suman   24    Delhi          MBBS\n"
     ]
    }
   ],
   "source": [
    "#2.Create dataframe,the merge it with a new column\n",
    "import pandas as pd \n",
    " \n",
    "# Define a dictionary containing employee data \n",
    "data1 = {'Name':['Shashank', 'Sharat', 'Sushma'], \n",
    "        'Age':[23, 22, 23], \n",
    "        'Address':['Solapur', 'Gulbarga', 'Bengaluru'], \n",
    "        'Qualification':['Eng', 'Bsc', 'CA']} \n",
    "   \n",
    "# Define a dictionary containing employee data \n",
    "data2 = {'Name':['Naina', 'Chikki', 'Suman'], \n",
    "        'Age':[19, 25, 24], \n",
    "        'Address':['Pune', 'Bijapur', 'Delhi'], \n",
    "        'Qualification':['B.ed', 'B.com', 'MBBS']} \n",
    " \n",
    "# Convert the dictionary into DataFrame  \n",
    "df = pd.DataFrame(data1,index=[0, 1, 2])\n",
    " \n",
    "# Convert the dictionary into DataFrame  \n",
    "df1 = pd.DataFrame(data2, index=[3,4, 5])\n",
    " \n",
    "print(df, \"\\n\\n\", df1)"
   ]
  },
  {
   "cell_type": "code",
   "execution_count": 6,
   "metadata": {},
   "outputs": [
    {
     "data": {
      "text/html": [
       "<div>\n",
       "<style scoped>\n",
       "    .dataframe tbody tr th:only-of-type {\n",
       "        vertical-align: middle;\n",
       "    }\n",
       "\n",
       "    .dataframe tbody tr th {\n",
       "        vertical-align: top;\n",
       "    }\n",
       "\n",
       "    .dataframe thead th {\n",
       "        text-align: right;\n",
       "    }\n",
       "</style>\n",
       "<table border=\"1\" class=\"dataframe\">\n",
       "  <thead>\n",
       "    <tr style=\"text-align: right;\">\n",
       "      <th></th>\n",
       "      <th>Name</th>\n",
       "      <th>Age</th>\n",
       "      <th>Address</th>\n",
       "      <th>Qualification</th>\n",
       "    </tr>\n",
       "  </thead>\n",
       "  <tbody>\n",
       "    <tr>\n",
       "      <th>0</th>\n",
       "      <td>Shashank</td>\n",
       "      <td>23</td>\n",
       "      <td>Solapur</td>\n",
       "      <td>Eng</td>\n",
       "    </tr>\n",
       "    <tr>\n",
       "      <th>1</th>\n",
       "      <td>Sharat</td>\n",
       "      <td>22</td>\n",
       "      <td>Gulbarga</td>\n",
       "      <td>Bsc</td>\n",
       "    </tr>\n",
       "    <tr>\n",
       "      <th>2</th>\n",
       "      <td>Sushma</td>\n",
       "      <td>23</td>\n",
       "      <td>Bengaluru</td>\n",
       "      <td>CA</td>\n",
       "    </tr>\n",
       "    <tr>\n",
       "      <th>3</th>\n",
       "      <td>Naina</td>\n",
       "      <td>19</td>\n",
       "      <td>Pune</td>\n",
       "      <td>B.ed</td>\n",
       "    </tr>\n",
       "    <tr>\n",
       "      <th>4</th>\n",
       "      <td>Chikki</td>\n",
       "      <td>25</td>\n",
       "      <td>Bijapur</td>\n",
       "      <td>B.com</td>\n",
       "    </tr>\n",
       "    <tr>\n",
       "      <th>5</th>\n",
       "      <td>Suman</td>\n",
       "      <td>24</td>\n",
       "      <td>Delhi</td>\n",
       "      <td>MBBS</td>\n",
       "    </tr>\n",
       "  </tbody>\n",
       "</table>\n",
       "</div>"
      ],
      "text/plain": [
       "       Name  Age    Address Qualification\n",
       "0  Shashank   23    Solapur           Eng\n",
       "1    Sharat   22   Gulbarga           Bsc\n",
       "2    Sushma   23  Bengaluru            CA\n",
       "3     Naina   19       Pune          B.ed\n",
       "4    Chikki   25    Bijapur         B.com\n",
       "5     Suman   24      Delhi          MBBS"
      ]
     },
     "execution_count": 6,
     "metadata": {},
     "output_type": "execute_result"
    }
   ],
   "source": [
    "# using a .concat() method\n",
    "frames = [df, df1]\n",
    " \n",
    "res1 = pd.concat(frames)\n",
    "res1\n"
   ]
  },
  {
   "cell_type": "code",
   "execution_count": null,
   "metadata": {},
   "outputs": [],
   "source": []
  }
 ],
 "metadata": {
  "kernelspec": {
   "display_name": "Python 3",
   "language": "python",
   "name": "python3"
  },
  "language_info": {
   "codemirror_mode": {
    "name": "ipython",
    "version": 3
   },
   "file_extension": ".py",
   "mimetype": "text/x-python",
   "name": "python",
   "nbconvert_exporter": "python",
   "pygments_lexer": "ipython3",
   "version": "3.8.3"
  }
 },
 "nbformat": 4,
 "nbformat_minor": 4
}
